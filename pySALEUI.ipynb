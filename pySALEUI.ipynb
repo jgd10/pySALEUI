{
 "cells": [
  {
   "cell_type": "code",
   "execution_count": 1,
   "metadata": {},
   "outputs": [
    {
     "name": "stdout",
     "output_type": "stream",
     "text": [
      " ===================================================== \n",
      "               _______   __   ________    __           \n",
      "    ___  __ __/ __/ _ | / /  / __/ __/__ / /___ _____  \n",
      "   / _ \\/ // /\\ \\/ __ |/ /__/ _/_\\ \\/ -_) __/ // / _ \\ \n",
      "  / .__/\\_, /___/_/ |_/____/___/___/\\__/\\__/\\_,_/ .__/ \n",
      " /_/   /___/                                   /_/     \n",
      "                                      by J. G. Derrick \n",
      " ===================================================== \n",
      "Hello World!\n"
     ]
    }
   ],
   "source": [
    "%matpltolib widgets\n",
    "import pySALESetup as pss\n",
    "import ipywidgets as ipy\n",
    "\n",
    "print('Hello World!')"
   ]
  },
  {
   "cell_type": "code",
   "execution_count": null,
   "metadata": {},
   "outputs": [],
   "source": []
  }
 ],
 "metadata": {
  "kernelspec": {
   "display_name": "Python 3",
   "language": "python",
   "name": "python3"
  },
  "language_info": {
   "codemirror_mode": {
    "name": "ipython",
    "version": 3
   },
   "file_extension": ".py",
   "mimetype": "text/x-python",
   "name": "python",
   "nbconvert_exporter": "python",
   "pygments_lexer": "ipython3",
   "version": "3.7.2"
  }
 },
 "nbformat": 4,
 "nbformat_minor": 2
}
